{
 "cells": [
  {
   "cell_type": "code",
   "execution_count": null,
   "id": "6db6daea",
   "metadata": {},
   "outputs": [],
   "source": [
    "# import necessary modules\n",
    "import pandas as pd\n",
    "import os"
   ]
  },
  {
   "cell_type": "code",
   "execution_count": null,
   "id": "be93a56c",
   "metadata": {},
   "outputs": [],
   "source": [
    "# define the source data paths\n",
    "students_csvPath = os.path.join(\"Resources\", \"students_complete.csv\")\n",
    "schools_csvPath = os.path.join(\"Resources\", \"schools_complete.csv\")"
   ]
  },
  {
   "cell_type": "code",
   "execution_count": null,
   "id": "4211d00c",
   "metadata": {},
   "outputs": [],
   "source": [
    "# read the data into their initial dataframs\n",
    "students_df = pd.read_csv(students_csvPath)\n",
    "schools_df = pd.read_csv(schools_csvPath)"
   ]
  },
  {
   "cell_type": "code",
   "execution_count": null,
   "id": "c2bd2896",
   "metadata": {},
   "outputs": [],
   "source": [
    "# define threshold values\n",
    "passingThreshold = 70"
   ]
  },
  {
   "cell_type": "code",
   "execution_count": null,
   "id": "772aa365",
   "metadata": {
    "scrolled": true
   },
   "outputs": [],
   "source": [
    "# calculate the district summary metrics\n",
    "totalSchools = len(schools_df[\"School ID\"])\n",
    "totalStudents = len(students_df[\"student_name\"])\n",
    "totalBudget = schools_df[\"budget\"].sum()\n",
    "avgMathScore = students_df[\"math_score\"].mean()\n",
    "avgReadingScore = students_df[\"reading_score\"].mean()\n",
    "passingMath = sum(students_df.math_score >= passingThreshold) / totalStudents * 100\n",
    "passingReading = sum(students_df.reading_score >= passingThreshold) / totalStudents * 100\n",
    "passingBoth = sum(\n",
    "    (students_df.math_score >= passingThreshold) & \n",
    "    (students_df.reading_score >= passingThreshold)\n",
    "    ) / totalStudents * 100"
   ]
  },
  {
   "cell_type": "code",
   "execution_count": null,
   "id": "b514def6",
   "metadata": {},
   "outputs": [],
   "source": [
    "# calculate the school summary metrics\n"
   ]
  },
  {
   "cell_type": "code",
   "execution_count": null,
   "id": "93bf0238",
   "metadata": {},
   "outputs": [],
   "source": [
    "# create the district summary DataFrame\n",
    "district_df = pd.DataFrame({\n",
    "    \"Total Schools\": [totalSchools],\n",
    "    \"Total Students\": f\"{totalStudents:,.0f}\",\n",
    "    \"Total Budget\": f\"${totalBudget:,.2f}\",\n",
    "    \"Avg Math Score\": f\"{avgMathScore:,.2f}\",\n",
    "    \"Avg Reading Score\": f\"{avgReadingScore:,.2f}\",\n",
    "    \"Passing Math\": f\"{passingMath:,.2f}%\",\n",
    "    \"Passing Reading\": f\"{passingReading:,.2f}%\",\n",
    "    \"Passing\": f\"{passingBoth:,.2f}%\"})"
   ]
  },
  {
   "cell_type": "code",
   "execution_count": null,
   "id": "3ffe2678",
   "metadata": {},
   "outputs": [],
   "source": [
    "# create the school summary DataFrame\n",
    "school_df = pd.DataFrame({\n",
    "    \n",
    "})"
   ]
  }
 ],
 "metadata": {
  "kernelspec": {
   "display_name": "PythonData38",
   "language": "python",
   "name": "pythondata38"
  },
  "language_info": {
   "codemirror_mode": {
    "name": "ipython",
    "version": 3
   },
   "file_extension": ".py",
   "mimetype": "text/x-python",
   "name": "python",
   "nbconvert_exporter": "python",
   "pygments_lexer": "ipython3",
   "version": "3.9.7"
  }
 },
 "nbformat": 4,
 "nbformat_minor": 5
}
