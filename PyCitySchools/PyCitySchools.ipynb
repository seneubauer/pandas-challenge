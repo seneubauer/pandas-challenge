{
 "cells": [
  {
   "cell_type": "code",
   "execution_count": null,
   "id": "6db6daea",
   "metadata": {},
   "outputs": [],
   "source": [
    "# import necessary modules\n",
    "import pandas as pd\n",
    "import os"
   ]
  },
  {
   "cell_type": "code",
   "execution_count": null,
   "id": "be93a56c",
   "metadata": {},
   "outputs": [],
   "source": [
    "# define the source data paths\n",
    "students_csvPath = os.path.join(\"Resources\", \"students_complete.csv\")\n",
    "schools_csvPath = os.path.join(\"Resources\", \"schools_complete.csv\")"
   ]
  },
  {
   "cell_type": "code",
   "execution_count": null,
   "id": "4211d00c",
   "metadata": {},
   "outputs": [],
   "source": [
    "# read the data into their initial dataframs\n",
    "source_students_df = pd.read_csv(students_csvPath)\n",
    "source_schools_df = pd.read_csv(schools_csvPath)"
   ]
  },
  {
   "cell_type": "code",
   "execution_count": null,
   "id": "2bb5a1ba",
   "metadata": {},
   "outputs": [],
   "source": [
    "# rename columns to use universal formatting\n",
    "source_students_df = source_students_df.rename(columns={\n",
    "                                    \"Student ID\": \"Student ID\",\n",
    "                                    \"student_name\": \"Student Name\",\n",
    "                                    \"gender\": \"Gender\",\n",
    "                                    \"grade\": \"Grade\",\n",
    "                                    \"school_name\", \"School Name\",\n",
    "                                    \"reading_score\", \"Reading Score\",\n",
    "                                    \"math_score\", \"Math Score\"})\n",
    "\n",
    "source_schools_df = source_schools_df.rename(columns={\n",
    "                                    \"School ID\": \"School ID\",\n",
    "                                    \"school_name\": \"School Name\",\n",
    "                                    \"type\": \"School Type\",\n",
    "                                    \"size\": \"Total Students\"\n",
    "                                    \"budget\": \"Total School Budget\"\n",
    "})"
   ]
  },
  {
   "cell_type": "code",
   "execution_count": null,
   "id": "c2bd2896",
   "metadata": {},
   "outputs": [],
   "source": [
    "# define threshold values\n",
    "passingThreshold = 70"
   ]
  },
  {
   "cell_type": "code",
   "execution_count": null,
   "id": "772aa365",
   "metadata": {
    "scrolled": true
   },
   "outputs": [],
   "source": [
    "# calculate the district summary metrics\n",
    "totalSchools = len(schools_df[\"School ID\"])\n",
    "totalStudents = len(students_df[\"student_name\"])\n",
    "totalBudget = schools_df[\"budget\"].sum()\n",
    "avgMathScore = students_df[\"math_score\"].mean()\n",
    "avgReadingScore = students_df[\"reading_score\"].mean()\n",
    "passingMath = sum(students_df.math_score >= passingThreshold) / totalStudents * 100\n",
    "passingReading = sum(students_df.reading_score >= passingThreshold) / totalStudents * 100\n",
    "passingBoth = sum(\n",
    "    (students_df.math_score >= passingThreshold) & \n",
    "    (students_df.reading_score >= passingThreshold)\n",
    "    ) / totalStudents * 100"
   ]
  },
  {
   "cell_type": "code",
   "execution_count": null,
   "id": "93bf0238",
   "metadata": {},
   "outputs": [],
   "source": [
    "# create the district summary DataFrame\n",
    "district_df = pd.DataFrame({\n",
    "    \"Total Schools\": [totalSchools],\n",
    "    \"Total Students\": f\"{totalStudents:,.0f}\",\n",
    "    \"Total Budget\": f\"${totalBudget:,.2f}\",\n",
    "    \"Avg Math Score\": f\"{avgMathScore:,.2f}\",\n",
    "    \"Avg Reading Score\": f\"{avgReadingScore:,.2f}\",\n",
    "    \"Passing Math\": f\"{passingMath:,.2f}%\",\n",
    "    \"Passing Reading\": f\"{passingReading:,.2f}%\",\n",
    "    \"Passing\": f\"{passingBoth:,.2f}%\"})\n",
    "district_df.style.hide_index()"
   ]
  },
  {
   "cell_type": "code",
   "execution_count": null,
   "id": "3ffe2678",
   "metadata": {
    "scrolled": false
   },
   "outputs": [],
   "source": [
    "# create the school summary DataFrame\n",
    "studentsbySchool_df = students_df.groupby(\"school_name\").sum()\n",
    "schools_df = pd.merge(schools_df, studentsbySchool_df, on=\"school_name\")\n",
    "schools_df.head()\n",
    "\n",
    "\n",
    "\n",
    "\n",
    "\n",
    "\n",
    "# schools_df = schools_df.rename(columns={\n",
    "#                         \"type\": \"School Type\",\n",
    "#                         \"size\": \"Total Students\",\n",
    "#                         \"budget\": \"Total School Budget\",\n",
    "#                         \"school_name\": \"School\"})\n",
    "#schools_df[\"Per Student Budget\"] = schools_df[\"Total School Budget\"] / schools_df[\"Total Students\"]\n",
    "#schools_df[\"Average Math Score\"] = students_df.groupby(\"school_name\").sum()\n",
    "#students_df.groupby(\"school_name\").sum()\n",
    "\n",
    "\n",
    "#merged_df.groupby('school_name').sum()\n",
    "\n",
    "#school_df = pd.merge(schools_df, students_df, on=\"school_name\", how=\"left\").sort_values(\"school_name\", ascending=True).groupby([\"School ID\", \"school_name\"])\n",
    "\n",
    "# I could not find an elegant way to combine merge/sort/groupby in order to attain these results so I am resorting to a\n",
    "# brute force method\n",
    "\n",
    "# get a list of the school names\n",
    "# schools_List = schools_df[\"school_name\"]\n",
    "# schoolTypes_List = []\n",
    "# totalStudents_List = []\n",
    "# totalBudgets_List = []\n",
    "# perStudentBudget_List = []\n",
    "# avgMathScore_List = []\n",
    "# avgReadingScore_List = []\n",
    "# percentMathScore_List = []\n",
    "# percentReadingScore_List = []\n",
    "# percentOveral_List = []\n",
    "\n",
    "# # iterate through each of the school names\n",
    "# for i in range(len(schools_List)):\n",
    "#     schoolTypes_List.append(schools_df[\"school_name\"][i])\n",
    "#     totalStudents_List.append(sum(students_df[\"school_name\"] == schools_List[i]))\n",
    "#     totalBudgets_List.append(sum(schools_df[\"budget\"] == schools_List[i]))\n",
    "    "
   ]
  },
  {
   "cell_type": "code",
   "execution_count": null,
   "id": "65adb31c",
   "metadata": {},
   "outputs": [],
   "source": []
  }
 ],
 "metadata": {
  "kernelspec": {
   "display_name": "PythonData38",
   "language": "python",
   "name": "pythondata38"
  },
  "language_info": {
   "codemirror_mode": {
    "name": "ipython",
    "version": 3
   },
   "file_extension": ".py",
   "mimetype": "text/x-python",
   "name": "python",
   "nbconvert_exporter": "python",
   "pygments_lexer": "ipython3",
   "version": "3.9.7"
  }
 },
 "nbformat": 4,
 "nbformat_minor": 5
}
