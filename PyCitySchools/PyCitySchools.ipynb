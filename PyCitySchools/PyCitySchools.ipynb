{
 "cells": [
  {
   "cell_type": "code",
   "execution_count": 1,
   "id": "628c5e01",
   "metadata": {},
   "outputs": [],
   "source": [
    "# import necessary modules\n",
    "import pandas as pd\n",
    "import os"
   ]
  },
  {
   "cell_type": "code",
   "execution_count": 2,
   "id": "7db3b705",
   "metadata": {},
   "outputs": [],
   "source": [
    "# define the source data paths\n",
    "students_csvPath = os.path.join(\"Resources\", \"students_complete.csv\")\n",
    "schools_csvPath = os.path.join(\"Resources\", \"schools_complete.csv\")"
   ]
  },
  {
   "cell_type": "code",
   "execution_count": 7,
   "id": "492a345b",
   "metadata": {},
   "outputs": [],
   "source": [
    "# read the data into their initial dataframs\n",
    "students_df = pd.read_csv(students_csvPath)\n",
    "schools_df = pd.read_csv(schools_csvPath)"
   ]
  },
  {
   "cell_type": "code",
   "execution_count": 9,
   "id": "123054fc",
   "metadata": {
    "scrolled": true
   },
   "outputs": [],
   "source": [
    "# calculate the district summary metrics\n",
    "totalSchools = schools_df[\"School ID\"].nunique()\n",
    "totalStudents = students_df[\"student_name\"].nunique()\n",
    "totalBudget = schools_df[\"budget\"].sum()\n",
    "avgMathScore = students_df[\"math_score\"].mean()"
   ]
  },
  {
   "cell_type": "code",
   "execution_count": null,
   "id": "72f75c83",
   "metadata": {},
   "outputs": [],
   "source": []
  }
 ],
 "metadata": {
  "kernelspec": {
   "display_name": "PythonData38",
   "language": "python",
   "name": "pythondata38"
  },
  "language_info": {
   "codemirror_mode": {
    "name": "ipython",
    "version": 3
   },
   "file_extension": ".py",
   "mimetype": "text/x-python",
   "name": "python",
   "nbconvert_exporter": "python",
   "pygments_lexer": "ipython3",
   "version": "3.9.7"
  }
 },
 "nbformat": 4,
 "nbformat_minor": 5
}
